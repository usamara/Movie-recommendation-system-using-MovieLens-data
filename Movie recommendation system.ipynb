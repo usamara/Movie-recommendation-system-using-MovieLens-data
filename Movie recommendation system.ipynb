{
 "cells": [
  {
   "cell_type": "markdown",
   "id": "a898f749",
   "metadata": {},
   "source": [
    "## Predictive Analytics: Movie recommendation system using MovieLens data\n",
    "\n",
    "Using the small MovieLens data set, create a recommender system that allows users to input a movie they like (in the data set) and recommends ten other movies for them to watch. In your write-up, clearly explain the recommender system process and all steps performed. If you are using a method found online, be sure to reference the source.\n",
    "You can use R or Python to complete this assignment. Submit your code and output to the submission link. Make sure to add comments to all of your code and to document your steps, process, and analysis."
   ]
  },
  {
   "cell_type": "code",
   "execution_count": 2,
   "id": "c799b813",
   "metadata": {},
   "outputs": [],
   "source": [
    "# Load the Libraries\n",
    "import os\n",
    "import pandas as pd\n",
    "import numpy as np\n",
    "import matplotlib.pyplot as plt\n",
    "#%matplotlib inline\n",
    "import sklearn\n",
    "import seaborn as sns\n",
    "from scipy.sparse import csr_matrix\n",
    "from sklearn.neighbors import NearestNeighbors\n",
    "import warnings \n",
    "warnings.filterwarnings('ignore')\n",
    "from sklearn.model_selection import train_test_split\n",
    "from sklearn.metrics.pairwise import cosine_similarity"
   ]
  },
  {
   "cell_type": "code",
   "execution_count": 3,
   "id": "b38c97cf",
   "metadata": {},
   "outputs": [
    {
     "name": "stdout",
     "output_type": "stream",
     "text": [
      "/Users/rajibsamanta/Documents/Rajib/College/Sem 7 Winter 2023/Week10/ml-25m\n"
     ]
    }
   ],
   "source": [
    "# 1. Load MovieLens data set dataset as a Pandas data frame.\n",
    "# 2. Display the first ten rows of data.\n",
    "# Read  US retails sales  data file ('als_data.csv') from local:\n",
    "directory = '/Users/rajibsamanta/Documents/Rajib/College/Sem 7 Winter 2023/Week10/ml-25m'\n",
    "# Set the working directory\n",
    "os.chdir(directory)\n",
    "print(os.getcwd())\n",
    "# Step 1: Load the MovieLens dataset\n",
    "movies = pd.read_csv('movies.csv')\n",
    "ratings = pd.read_csv('ratings.csv')"
   ]
  },
  {
   "cell_type": "code",
   "execution_count": 4,
   "id": "a2804892",
   "metadata": {},
   "outputs": [
    {
     "data": {
      "text/html": [
       "<div>\n",
       "<style scoped>\n",
       "    .dataframe tbody tr th:only-of-type {\n",
       "        vertical-align: middle;\n",
       "    }\n",
       "\n",
       "    .dataframe tbody tr th {\n",
       "        vertical-align: top;\n",
       "    }\n",
       "\n",
       "    .dataframe thead th {\n",
       "        text-align: right;\n",
       "    }\n",
       "</style>\n",
       "<table border=\"1\" class=\"dataframe\">\n",
       "  <thead>\n",
       "    <tr style=\"text-align: right;\">\n",
       "      <th></th>\n",
       "      <th>movieId</th>\n",
       "      <th>title</th>\n",
       "      <th>genres</th>\n",
       "    </tr>\n",
       "  </thead>\n",
       "  <tbody>\n",
       "    <tr>\n",
       "      <th>0</th>\n",
       "      <td>1</td>\n",
       "      <td>Toy Story (1995)</td>\n",
       "      <td>Adventure|Animation|Children|Comedy|Fantasy</td>\n",
       "    </tr>\n",
       "    <tr>\n",
       "      <th>1</th>\n",
       "      <td>2</td>\n",
       "      <td>Jumanji (1995)</td>\n",
       "      <td>Adventure|Children|Fantasy</td>\n",
       "    </tr>\n",
       "    <tr>\n",
       "      <th>2</th>\n",
       "      <td>3</td>\n",
       "      <td>Grumpier Old Men (1995)</td>\n",
       "      <td>Comedy|Romance</td>\n",
       "    </tr>\n",
       "    <tr>\n",
       "      <th>3</th>\n",
       "      <td>4</td>\n",
       "      <td>Waiting to Exhale (1995)</td>\n",
       "      <td>Comedy|Drama|Romance</td>\n",
       "    </tr>\n",
       "    <tr>\n",
       "      <th>4</th>\n",
       "      <td>5</td>\n",
       "      <td>Father of the Bride Part II (1995)</td>\n",
       "      <td>Comedy</td>\n",
       "    </tr>\n",
       "    <tr>\n",
       "      <th>5</th>\n",
       "      <td>6</td>\n",
       "      <td>Heat (1995)</td>\n",
       "      <td>Action|Crime|Thriller</td>\n",
       "    </tr>\n",
       "    <tr>\n",
       "      <th>6</th>\n",
       "      <td>7</td>\n",
       "      <td>Sabrina (1995)</td>\n",
       "      <td>Comedy|Romance</td>\n",
       "    </tr>\n",
       "    <tr>\n",
       "      <th>7</th>\n",
       "      <td>8</td>\n",
       "      <td>Tom and Huck (1995)</td>\n",
       "      <td>Adventure|Children</td>\n",
       "    </tr>\n",
       "    <tr>\n",
       "      <th>8</th>\n",
       "      <td>9</td>\n",
       "      <td>Sudden Death (1995)</td>\n",
       "      <td>Action</td>\n",
       "    </tr>\n",
       "    <tr>\n",
       "      <th>9</th>\n",
       "      <td>10</td>\n",
       "      <td>GoldenEye (1995)</td>\n",
       "      <td>Action|Adventure|Thriller</td>\n",
       "    </tr>\n",
       "  </tbody>\n",
       "</table>\n",
       "</div>"
      ],
      "text/plain": [
       "   movieId                               title  \\\n",
       "0        1                    Toy Story (1995)   \n",
       "1        2                      Jumanji (1995)   \n",
       "2        3             Grumpier Old Men (1995)   \n",
       "3        4            Waiting to Exhale (1995)   \n",
       "4        5  Father of the Bride Part II (1995)   \n",
       "5        6                         Heat (1995)   \n",
       "6        7                      Sabrina (1995)   \n",
       "7        8                 Tom and Huck (1995)   \n",
       "8        9                 Sudden Death (1995)   \n",
       "9       10                    GoldenEye (1995)   \n",
       "\n",
       "                                        genres  \n",
       "0  Adventure|Animation|Children|Comedy|Fantasy  \n",
       "1                   Adventure|Children|Fantasy  \n",
       "2                               Comedy|Romance  \n",
       "3                         Comedy|Drama|Romance  \n",
       "4                                       Comedy  \n",
       "5                        Action|Crime|Thriller  \n",
       "6                               Comedy|Romance  \n",
       "7                           Adventure|Children  \n",
       "8                                       Action  \n",
       "9                    Action|Adventure|Thriller  "
      ]
     },
     "execution_count": 4,
     "metadata": {},
     "output_type": "execute_result"
    }
   ],
   "source": [
    "# Display Movies dataset\n",
    "movies.head(10)"
   ]
  },
  {
   "cell_type": "code",
   "execution_count": 5,
   "id": "33523d99",
   "metadata": {},
   "outputs": [
    {
     "name": "stdout",
     "output_type": "stream",
     "text": [
      "<class 'pandas.core.frame.DataFrame'>\n",
      "RangeIndex: 62423 entries, 0 to 62422\n",
      "Data columns (total 3 columns):\n",
      " #   Column   Non-Null Count  Dtype \n",
      "---  ------   --------------  ----- \n",
      " 0   movieId  62423 non-null  int64 \n",
      " 1   title    62423 non-null  object\n",
      " 2   genres   62423 non-null  object\n",
      "dtypes: int64(1), object(2)\n",
      "memory usage: 1.4+ MB\n"
     ]
    }
   ],
   "source": [
    "# Find the dimensions \n",
    "movies.info()"
   ]
  },
  {
   "cell_type": "code",
   "execution_count": 6,
   "id": "468d05b2",
   "metadata": {},
   "outputs": [
    {
     "data": {
      "text/html": [
       "<div>\n",
       "<style scoped>\n",
       "    .dataframe tbody tr th:only-of-type {\n",
       "        vertical-align: middle;\n",
       "    }\n",
       "\n",
       "    .dataframe tbody tr th {\n",
       "        vertical-align: top;\n",
       "    }\n",
       "\n",
       "    .dataframe thead th {\n",
       "        text-align: right;\n",
       "    }\n",
       "</style>\n",
       "<table border=\"1\" class=\"dataframe\">\n",
       "  <thead>\n",
       "    <tr style=\"text-align: right;\">\n",
       "      <th></th>\n",
       "      <th>userId</th>\n",
       "      <th>movieId</th>\n",
       "      <th>rating</th>\n",
       "      <th>timestamp</th>\n",
       "    </tr>\n",
       "  </thead>\n",
       "  <tbody>\n",
       "    <tr>\n",
       "      <th>0</th>\n",
       "      <td>1</td>\n",
       "      <td>296</td>\n",
       "      <td>5.0</td>\n",
       "      <td>1147880044</td>\n",
       "    </tr>\n",
       "    <tr>\n",
       "      <th>1</th>\n",
       "      <td>1</td>\n",
       "      <td>306</td>\n",
       "      <td>3.5</td>\n",
       "      <td>1147868817</td>\n",
       "    </tr>\n",
       "    <tr>\n",
       "      <th>2</th>\n",
       "      <td>1</td>\n",
       "      <td>307</td>\n",
       "      <td>5.0</td>\n",
       "      <td>1147868828</td>\n",
       "    </tr>\n",
       "    <tr>\n",
       "      <th>3</th>\n",
       "      <td>1</td>\n",
       "      <td>665</td>\n",
       "      <td>5.0</td>\n",
       "      <td>1147878820</td>\n",
       "    </tr>\n",
       "    <tr>\n",
       "      <th>4</th>\n",
       "      <td>1</td>\n",
       "      <td>899</td>\n",
       "      <td>3.5</td>\n",
       "      <td>1147868510</td>\n",
       "    </tr>\n",
       "    <tr>\n",
       "      <th>5</th>\n",
       "      <td>1</td>\n",
       "      <td>1088</td>\n",
       "      <td>4.0</td>\n",
       "      <td>1147868495</td>\n",
       "    </tr>\n",
       "    <tr>\n",
       "      <th>6</th>\n",
       "      <td>1</td>\n",
       "      <td>1175</td>\n",
       "      <td>3.5</td>\n",
       "      <td>1147868826</td>\n",
       "    </tr>\n",
       "    <tr>\n",
       "      <th>7</th>\n",
       "      <td>1</td>\n",
       "      <td>1217</td>\n",
       "      <td>3.5</td>\n",
       "      <td>1147878326</td>\n",
       "    </tr>\n",
       "    <tr>\n",
       "      <th>8</th>\n",
       "      <td>1</td>\n",
       "      <td>1237</td>\n",
       "      <td>5.0</td>\n",
       "      <td>1147868839</td>\n",
       "    </tr>\n",
       "    <tr>\n",
       "      <th>9</th>\n",
       "      <td>1</td>\n",
       "      <td>1250</td>\n",
       "      <td>4.0</td>\n",
       "      <td>1147868414</td>\n",
       "    </tr>\n",
       "  </tbody>\n",
       "</table>\n",
       "</div>"
      ],
      "text/plain": [
       "   userId  movieId  rating   timestamp\n",
       "0       1      296     5.0  1147880044\n",
       "1       1      306     3.5  1147868817\n",
       "2       1      307     5.0  1147868828\n",
       "3       1      665     5.0  1147878820\n",
       "4       1      899     3.5  1147868510\n",
       "5       1     1088     4.0  1147868495\n",
       "6       1     1175     3.5  1147868826\n",
       "7       1     1217     3.5  1147878326\n",
       "8       1     1237     5.0  1147868839\n",
       "9       1     1250     4.0  1147868414"
      ]
     },
     "execution_count": 6,
     "metadata": {},
     "output_type": "execute_result"
    }
   ],
   "source": [
    "# Display Movies Rating dataset\n",
    "ratings.head(10)"
   ]
  },
  {
   "cell_type": "code",
   "execution_count": 7,
   "id": "f77f34d0",
   "metadata": {},
   "outputs": [
    {
     "name": "stdout",
     "output_type": "stream",
     "text": [
      "<class 'pandas.core.frame.DataFrame'>\n",
      "RangeIndex: 25000095 entries, 0 to 25000094\n",
      "Data columns (total 4 columns):\n",
      " #   Column     Dtype  \n",
      "---  ------     -----  \n",
      " 0   userId     int64  \n",
      " 1   movieId    int64  \n",
      " 2   rating     float64\n",
      " 3   timestamp  int64  \n",
      "dtypes: float64(1), int64(3)\n",
      "memory usage: 762.9 MB\n"
     ]
    }
   ],
   "source": [
    "# Find the dimensions \n",
    "ratings.info()"
   ]
  },
  {
   "cell_type": "code",
   "execution_count": 8,
   "id": "bfb9b6a1",
   "metadata": {},
   "outputs": [
    {
     "name": "stdout",
     "output_type": "stream",
     "text": [
      "User No of rating DataFrame:\n"
     ]
    },
    {
     "data": {
      "text/html": [
       "<div>\n",
       "<style scoped>\n",
       "    .dataframe tbody tr th:only-of-type {\n",
       "        vertical-align: middle;\n",
       "    }\n",
       "\n",
       "    .dataframe tbody tr th {\n",
       "        vertical-align: top;\n",
       "    }\n",
       "\n",
       "    .dataframe thead th {\n",
       "        text-align: right;\n",
       "    }\n",
       "</style>\n",
       "<table border=\"1\" class=\"dataframe\">\n",
       "  <thead>\n",
       "    <tr style=\"text-align: right;\">\n",
       "      <th></th>\n",
       "      <th>userId</th>\n",
       "      <th>n_ratings</th>\n",
       "    </tr>\n",
       "  </thead>\n",
       "  <tbody>\n",
       "    <tr>\n",
       "      <th>0</th>\n",
       "      <td>1</td>\n",
       "      <td>70</td>\n",
       "    </tr>\n",
       "    <tr>\n",
       "      <th>1</th>\n",
       "      <td>2</td>\n",
       "      <td>184</td>\n",
       "    </tr>\n",
       "    <tr>\n",
       "      <th>2</th>\n",
       "      <td>3</td>\n",
       "      <td>656</td>\n",
       "    </tr>\n",
       "    <tr>\n",
       "      <th>3</th>\n",
       "      <td>4</td>\n",
       "      <td>242</td>\n",
       "    </tr>\n",
       "    <tr>\n",
       "      <th>4</th>\n",
       "      <td>5</td>\n",
       "      <td>101</td>\n",
       "    </tr>\n",
       "    <tr>\n",
       "      <th>5</th>\n",
       "      <td>6</td>\n",
       "      <td>26</td>\n",
       "    </tr>\n",
       "    <tr>\n",
       "      <th>6</th>\n",
       "      <td>7</td>\n",
       "      <td>25</td>\n",
       "    </tr>\n",
       "    <tr>\n",
       "      <th>7</th>\n",
       "      <td>8</td>\n",
       "      <td>155</td>\n",
       "    </tr>\n",
       "    <tr>\n",
       "      <th>8</th>\n",
       "      <td>9</td>\n",
       "      <td>178</td>\n",
       "    </tr>\n",
       "    <tr>\n",
       "      <th>9</th>\n",
       "      <td>10</td>\n",
       "      <td>53</td>\n",
       "    </tr>\n",
       "  </tbody>\n",
       "</table>\n",
       "</div>"
      ],
      "text/plain": [
       "   userId  n_ratings\n",
       "0       1         70\n",
       "1       2        184\n",
       "2       3        656\n",
       "3       4        242\n",
       "4       5        101\n",
       "5       6         26\n",
       "6       7         25\n",
       "7       8        155\n",
       "8       9        178\n",
       "9      10         53"
      ]
     },
     "execution_count": 8,
     "metadata": {},
     "output_type": "execute_result"
    }
   ],
   "source": [
    "# Calculate the number of ratings per user\n",
    "user_rating = ratings[['userId', 'movieId']].groupby('userId').count().reset_index()\n",
    "# Display the user frequency data\n",
    "user_rating.columns = ['userId', 'n_ratings']\n",
    "print(\"User No of rating DataFrame:\")\n",
    "user_rating.head(10)"
   ]
  },
  {
   "cell_type": "markdown",
   "id": "49ffdfbe",
   "metadata": {},
   "source": [
    "The “User No of rating DataFrame” provides a concise snapshot of user engagement within the movie rating platform. ‘n_ratings’ column indicating the number of movie ratings they have contributed. For instance, user with ID 6 has submitted 26 ratings, suggesting a low level of activity and engagement, while user 3 has provided  656 movie ratings, indicating higher involvement. This breakdown offers valuable insights into user behavior and platform interaction patterns, which can inform targeted strategies for enhancing user experience, content recommenda- tion algorithms, and platform engagement initiatives."
   ]
  },
  {
   "cell_type": "code",
   "execution_count": 9,
   "id": "cb61d04a",
   "metadata": {},
   "outputs": [
    {
     "data": {
      "image/png": "[encoded data removed]",
      "text/plain": [
       "<Figure size 640x480 with 1 Axes>"
      ]
     },
     "metadata": {},
     "output_type": "display_data"
    }
   ],
   "source": [
    "# Rating score histrogram\n",
    "ratings_hist = ratings.to_numpy()\n",
    "plt.hist(ratings_hist[:, 2])\n",
    "plt.show()"
   ]
  },
  {
   "cell_type": "markdown",
   "id": "29b00998",
   "metadata": {},
   "source": [
    "From the above histrogram it shows that the majority of ratings fall between 3 and 4, it indicates that users generally perceive the movies they watch as moderately to fairly positive. Ratings in this range suggest that users find the movies enjoyable or satisfactory, but not exceptional. Additionally, it provides insights for content curation efforts, enabling the platform to continue offering a diverse and engaging collection of movies that appeal to its user base."
   ]
  },
  {
   "cell_type": "code",
   "execution_count": 10,
   "id": "50bb2fe2",
   "metadata": {},
   "outputs": [],
   "source": [
    "# Now, we create user-item matrix using scipy csr matrix\n",
    "## Function to create user item matrix\n",
    "def create_user_item_matrix(df): \n",
    "    N = len(df['userId'].unique())\n",
    "    M = len(df['movieId'].unique())\n",
    "# Map Ids to indices\n",
    "    user_mapper = dict(zip(np.unique(df[\"userId\"]), list(range(N)))) \n",
    "    movie_mapper = dict(zip(np.unique(df[\"movieId\"]), list(range(M))))\n",
    "# Map indices to IDs\n",
    "    user_inv_mapper = dict(zip(list(range(N)), np.unique(df[\"userId\"]))) \n",
    "    movie_inv_mapper = dict(zip(list(range(M)), np.unique(df[\"movieId\"]))) \n",
    "    user_index = [user_mapper[i] for i in df['userId']]\n",
    "    movie_index = [movie_mapper[i] for i in df['movieId']]\n",
    "    X = csr_matrix((df[\"rating\"], (movie_index, user_index)), shape=(M, N)) \n",
    "    return X, user_mapper, movie_mapper, user_inv_mapper, movie_inv_mapper"
   ]
  },
  {
   "cell_type": "code",
   "execution_count": 11,
   "id": "29153648",
   "metadata": {},
   "outputs": [
    {
     "data": {
      "text/plain": [
       "<59047x162541 sparse matrix of type '<class 'numpy.float64'>'\n",
       "\twith 25000095 stored elements in Compressed Sparse Row format>"
      ]
     },
     "execution_count": 11,
     "metadata": {},
     "output_type": "execute_result"
    }
   ],
   "source": [
    "# Call the function to create the user-item matrix\n",
    "X, user_mapper, movie_mapper, user_inv_mapper, movie_inv_mapper=create_user_item_matrix(ratings)\n",
    "X"
   ]
  },
  {
   "cell_type": "code",
   "execution_count": 12,
   "id": "d4775d60",
   "metadata": {},
   "outputs": [],
   "source": [
    "# Create a dictionary with movie ID as the key and movie title as the value\n",
    "movie_titles = dict(zip(movies['movieId'], movies['title']))"
   ]
  },
  {
   "cell_type": "code",
   "execution_count": 13,
   "id": "634ff2dd",
   "metadata": {},
   "outputs": [],
   "source": [
    "# Function to find similar movies based on an input movie ID\n",
    "def find_similar_movies(movie_id, X, k, metric='cosine', show_distance=False): \n",
    "    # Initialize an empty list to store neighbor movie IDs\n",
    "    neighbor_ids = []\n",
    "# Get the index of the input movie in the user-item matrix\n",
    "    movie_ind = movie_mapper[movie_id]\n",
    "    # Calculate the similarity of the input movie with all other movies\n",
    "    kNN = NearestNeighbors(n_neighbors=k + 1, algorithm=\"brute\", metric=metric)\n",
    "    kNN.fit(X)\n",
    "    neighbor = kNN.kneighbors(X[movie_ind].reshape(1,-1),return_distance=show_distance)\n",
    "    # Extract the indices of the neighbors (excluding the input movie)\n",
    "    neighbor_ids = [movie_inv_mapper[n] for n in neighbor[0][1:]] \n",
    "    return neighbor_ids"
   ]
  },
  {
   "cell_type": "code",
   "execution_count": 14,
   "id": "99e1d512",
   "metadata": {},
   "outputs": [],
   "source": [
    "# Function to get the movie ID based on a provided movie name\n",
    "def get_movie_id(name):\n",
    "    matching_movies = movies[movies['title'].str.upper().str.contains(name.upper())]\n",
    "    return matching_movies.iloc[0]['movieId'] if not matching_movies.empty else 0"
   ]
  },
  {
   "cell_type": "code",
   "execution_count": 15,
   "id": "7644abf6",
   "metadata": {},
   "outputs": [],
   "source": [
    "# Function to get movie recommendations based on user input\n",
    "def get_movie_recommendations(): \n",
    "    while True:\n",
    "        print(\"\\nPlease enter the name of a movie you've watched: \") \n",
    "        movie_name = str(input())\n",
    "        movie_id = get_movie_id(movie_name)\n",
    "        if movie_id in movie_mapper:\n",
    "            movie_title = movie_titles[movie_id]\n",
    "            print(f\"The movie '{movie_title}' is found in the movie Database.\") \n",
    "            similar_ids = find_similar_movies(movie_id, X, k=10) \n",
    "            print(f\"\\n\\033[1mRecommended movies based on '{movie_title}':\")\n",
    "            for i in similar_ids:\n",
    "                print(movie_titles[i])\n",
    "            user_yn = input(\"\\nDo you want to check recommendations for another movie? (Y/N): \")\n",
    "            if user_yn.upper() != 'Y': \n",
    "                print('Alright, have a great day!') \n",
    "                break\n",
    "        else:\n",
    "            print(\"Sorry, the movie is not in the database.\")\n",
    "            user_yn = input(\"\\nDo you want to check recommendations for another movie? (Y/N): \")\n",
    "        if user_yn.upper() != 'Y':\n",
    "            print('Alright, have a great day!')\n",
    "            break"
   ]
  },
  {
   "cell_type": "code",
   "execution_count": null,
   "id": "5d8cc2ed",
   "metadata": {},
   "outputs": [
    {
     "name": "stdout",
     "output_type": "stream",
     "text": [
      "\n",
      "Please enter the name of a movie you've watched: \n"
     ]
    }
   ],
   "source": [
    "# Test the recomended system\n",
    "get_movie_recommendations()"
   ]
  },
  {
   "cell_type": "markdown",
   "id": "e082e0ea",
   "metadata": {},
   "source": [
    "####  Conclusion\n",
    "Based on the test results, the movie recommendation system demonstrates effective functionality in providing personalized movie suggestions based on user input.\n",
    "For the movie “Toy Story,” the system accurately identifies the movie and offers a diverse range of recommendations, including 'Star Wars: Episode IV - A New Hope (1977)','Toy Story 2 (1999)','Back to the Future' etc which are align with the Adventure and Children genre preferences typically associated with “Toy Story.”\n",
    "\n",
    "Similarly, for “Heat,” while there might be multiple movies with similar titles, the system correctly matches the movie and recommends Action & Crime films from the same era, such as “Casino” and “Mission: Impossible” etc\n",
    "\n",
    "The recommendation system showcases robust functionality, accurately matching user input to movies in the database and providing relevant and diverse recommendations based on user preferences. \n",
    "\n",
    "\n",
    "#### References\n",
    "https://www.kaggle.com/code/shiblinomani/recommender-system-using-movielens-20m-dataset"
   ]
  },
  {
   "cell_type": "code",
   "execution_count": null,
   "id": "c23a7d6a",
   "metadata": {},
   "outputs": [],
   "source": []
  }
 ],
 "metadata": {
  "kernelspec": {
   "display_name": "Python 3 (ipykernel)",
   "language": "python",
   "name": "python3"
  },
  "language_info": {
   "codemirror_mode": {
    "name": "ipython",
    "version": 3
   },
   "file_extension": ".py",
   "mimetype": "text/x-python",
   "name": "python",
   "nbconvert_exporter": "python",
   "pygments_lexer": "ipython3",
   "version": "3.11.5"
  }
 },
 "nbformat": 4,
 "nbformat_minor": 5
}
